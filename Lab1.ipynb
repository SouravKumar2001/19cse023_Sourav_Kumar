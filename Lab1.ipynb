{
  "nbformat": 4,
  "nbformat_minor": 0,
  "metadata": {
    "colab": {
      "name": "print.ipynb",
      "provenance": [],
      "collapsed_sections": [],
      "authorship_tag": "ABX9TyNuV/zUuRG2fvpBEkySHupZ",
      "include_colab_link": true
    },
    "kernelspec": {
      "name": "python3",
      "display_name": "Python 3"
    }
  },
  "cells": [
    {
      "cell_type": "markdown",
      "metadata": {
        "id": "view-in-github",
        "colab_type": "text"
      },
      "source": [
        "<a href=\"https://colab.research.google.com/github/SouravKumar2001/19cse023_Sourav_Kumar/blob/main/Lab1.ipynb\" target=\"_parent\"><img src=\"https://colab.research.google.com/assets/colab-badge.svg\" alt=\"Open In Colab\"/></a>"
      ]
    },
    {
      "cell_type": "code",
      "metadata": {
        "colab": {
          "base_uri": "https://localhost:8080/"
        },
        "id": "cn_OqRTXkOYy",
        "outputId": "edb915e5-7c70-4eb6-b67b-fd761b53f43b"
      },
      "source": [
        "print(\"hi\")"
      ],
      "execution_count": null,
      "outputs": [
        {
          "output_type": "stream",
          "text": [
            "hi\n"
          ],
          "name": "stdout"
        }
      ]
    },
    {
      "cell_type": "markdown",
      "metadata": {
        "id": "t8--suGmk3Jk"
      },
      "source": [
        "1)"
      ]
    },
    {
      "cell_type": "code",
      "metadata": {
        "colab": {
          "base_uri": "https://localhost:8080/"
        },
        "id": "IwofXwmIlCsS",
        "outputId": "0e55e26f-7ab4-4206-ae46-223e10745d03"
      },
      "source": [
        "#1\r\n",
        "nm = input(\"Enter name : \")\r\n",
        "age = int(input(\"Enter age : \"))\r\n",
        "add = input(\"Enter Address :\")\r\n",
        "print(\"Name : \",nm);\r\n",
        "print(\"Age : \",age)\r\n",
        "print(\"Address : \",add)\r\n"
      ],
      "execution_count": 8,
      "outputs": [
        {
          "output_type": "stream",
          "text": [
            "Enter name : sourav\n",
            "Enter age : 20\n",
            "Enter Address :jamshedpur\n",
            "Name :  sourav\n",
            "Age :  20\n",
            "Address :  jamshedpur\n"
          ],
          "name": "stdout"
        }
      ]
    },
    {
      "cell_type": "markdown",
      "metadata": {
        "id": "SIg-1NY1nHId"
      },
      "source": [
        "2)\r\n"
      ]
    },
    {
      "cell_type": "markdown",
      "metadata": {
        "id": "hG2J54Rimstf"
      },
      "source": [
        ""
      ]
    },
    {
      "cell_type": "code",
      "metadata": {
        "colab": {
          "base_uri": "https://localhost:8080/"
        },
        "id": "j4CMy-zdnJts",
        "outputId": "20af144a-cd15-45d9-ea86-7fd15c721a2d"
      },
      "source": [
        "#2\r\n",
        "m1=int(input(\"Enter Marks in 1st sub :\"))\r\n",
        "m2=int(input(\"Enter Marks in 2nd sub :\"))\r\n",
        "m3=int(input(\"Enter Marks in 3rd sub :\"))\r\n",
        "sum=m1+m2+m3\r\n",
        "print (\"Sum is : \",sum)\r\n",
        "p=float(((m1+m2+m3)/300)*100)\r\n",
        "print (\"percentage  is : \",p)\r\n"
      ],
      "execution_count": 14,
      "outputs": [
        {
          "output_type": "stream",
          "text": [
            "Enter Marks in 1st sub :99\n",
            "Enter Marks in 2nd sub :99\n",
            "Enter Marks in 3rd sub :99\n",
            "Sum is :  297\n",
            "percentage  is :  99.0\n"
          ],
          "name": "stdout"
        }
      ]
    },
    {
      "cell_type": "markdown",
      "metadata": {
        "id": "TR_aZUJ8o1a_"
      },
      "source": [
        "3)\r\n"
      ]
    },
    {
      "cell_type": "code",
      "metadata": {
        "colab": {
          "base_uri": "https://localhost:8080/"
        },
        "id": "Skp_yO0Ro3Gu",
        "outputId": "12c70ad4-39f8-4ee7-f6f5-3ccad9d7c235"
      },
      "source": [
        "#3)\r\n",
        "r = int(input(\"Enter radius: \"))\r\n",
        "area=3.14*r*r\r\n",
        "print (\"Area of circle  is : \",area)"
      ],
      "execution_count": 16,
      "outputs": [
        {
          "output_type": "stream",
          "text": [
            "Enter radius: 5\n",
            "Area of circle  is :  78.5\n"
          ],
          "name": "stdout"
        }
      ]
    },
    {
      "cell_type": "markdown",
      "metadata": {
        "id": "JjmDpxaCpS1d"
      },
      "source": [
        "4)\r\n"
      ]
    },
    {
      "cell_type": "code",
      "metadata": {
        "colab": {
          "base_uri": "https://localhost:8080/"
        },
        "id": "hKuTyiXVpT8k",
        "outputId": "4433f784-044e-41ee-c176-4bc623b712b0"
      },
      "source": [
        "#4)\r\n",
        "import math\r\n",
        "\r\n",
        "\r\n",
        "\r\n",
        "s1=int(input(\"Enter side 1: \"))\r\n",
        "s2=int(input(\"Enter side 2: \"))\r\n",
        "s3=int(input(\"Enter side 2: \"))\r\n",
        "p=s1+s2+s3\r\n",
        "print (\"Perimeter of triangle is : \",p)\r\n",
        "s=(s1+s2+s3)/2\r\n",
        "a=math.sqrt(s*(s-s1)*(s-s2)*(s-s3))\r\n",
        "print (\"Area of triangle   is : \",a)"
      ],
      "execution_count": 27,
      "outputs": [
        {
          "output_type": "stream",
          "text": [
            "Enter side 1: 4\n",
            "Enter side 2: 5\n",
            "Enter side 2: 2\n",
            "Perimeter of triangle is :  11\n",
            "Area of triangle   is :  3.799671038392666\n"
          ],
          "name": "stdout"
        }
      ]
    },
    {
      "cell_type": "markdown",
      "metadata": {
        "id": "uZnyVddwsGHW"
      },
      "source": [
        "5)\r\n"
      ]
    },
    {
      "cell_type": "code",
      "metadata": {
        "colab": {
          "base_uri": "https://localhost:8080/"
        },
        "id": "NKW0BnbPsHn8",
        "outputId": "5e108f68-215c-49a4-d7cb-8af8fa91b712"
      },
      "source": [
        "r = int(input(\"Enter radius: \"))\r\n",
        "v=4/3*3.14*(r**3)\r\n",
        "print (\"Area of circle  is : \",area)"
      ],
      "execution_count": 28,
      "outputs": [
        {
          "output_type": "stream",
          "text": [
            "Enter radius: 5\n",
            "Area of circle  is :  78.5\n"
          ],
          "name": "stdout"
        }
      ]
    },
    {
      "cell_type": "markdown",
      "metadata": {
        "id": "YvRdGo1psbCU"
      },
      "source": [
        "6)"
      ]
    },
    {
      "cell_type": "code",
      "metadata": {
        "colab": {
          "base_uri": "https://localhost:8080/"
        },
        "id": "BWGnhddsscS9",
        "outputId": "7a458b07-2ad9-4547-f77c-13b4f9bf21ce"
      },
      "source": [
        "#6)\r\n",
        "li=[\"abc\",\"xyz\",\"pqr\",\"mno\",\"pqr\"]\r\n",
        "for i in li:\r\n",
        "  print(i)\r\n"
      ],
      "execution_count": 31,
      "outputs": [
        {
          "output_type": "stream",
          "text": [
            "abc\n",
            "xyz\n",
            "pqr\n",
            "mno\n",
            "pqr\n"
          ],
          "name": "stdout"
        }
      ]
    },
    {
      "cell_type": "markdown",
      "metadata": {
        "id": "BbkNBl34sioT"
      },
      "source": [
        "7)"
      ]
    },
    {
      "cell_type": "code",
      "metadata": {
        "colab": {
          "base_uri": "https://localhost:8080/"
        },
        "id": "RUovMzXlsjyD",
        "outputId": "d890586a-19c2-485a-b707-0dd58c9d15dd"
      },
      "source": [
        "#7)\r\n",
        "def rv(s):\r\n",
        "  s=s[::-1]\r\n",
        "  return s\r\n",
        "s=input(\"enter string : \")\r\n",
        "print(rv(s))\r\n"
      ],
      "execution_count": 29,
      "outputs": [
        {
          "output_type": "stream",
          "text": [
            "enter string : sourav\n",
            "varuos\n"
          ],
          "name": "stdout"
        }
      ]
    },
    {
      "cell_type": "markdown",
      "metadata": {
        "id": "RtGoYcPVsho7"
      },
      "source": [
        ""
      ]
    }
  ]
}